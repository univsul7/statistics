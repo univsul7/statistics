{
  "cells": [
    {
      "cell_type": "markdown",
      "metadata": {
        "id": "view-in-github",
        "colab_type": "text"
      },
      "source": [
        "<a href=\"https://colab.research.google.com/github/univsul7/statistics/blob/main/Statistic_colab.ipynb\" target=\"_parent\"><img src=\"https://colab.research.google.com/assets/colab-badge.svg\" alt=\"Open In Colab\"/></a>"
      ]
    },
    {
      "cell_type": "code",
      "execution_count": null,
      "id": "283ca43a",
      "metadata": {
        "id": "283ca43a"
      },
      "outputs": [],
      "source": [
        "import numpy as np\n",
        "import scipy.stats as st\n",
        "import matplotlib.pyplot as plt\n",
        "import seaborn as sns"
      ]
    },
    {
      "cell_type": "code",
      "execution_count": null,
      "id": "daf4a30c",
      "metadata": {
        "id": "daf4a30c"
      },
      "outputs": [],
      "source": [
        "np.random.seed(42)"
      ]
    },
    {
      "cell_type": "code",
      "execution_count": null,
      "id": "7fc7e724",
      "metadata": {
        "id": "7fc7e724"
      },
      "outputs": [],
      "source": [
        "x = st.skewnorm.rvs(-5, size=500)"
      ]
    },
    {
      "cell_type": "code",
      "execution_count": null,
      "id": "38938a95",
      "metadata": {
        "id": "38938a95"
      },
      "outputs": [],
      "source": [
        "x[0:10]"
      ]
    },
    {
      "cell_type": "code",
      "execution_count": null,
      "id": "d3183add",
      "metadata": {
        "id": "d3183add"
      },
      "outputs": [],
      "source": [
        "fig, ax = plt.subplots()\n",
        "_ = plt.hist(x, color = 'lightgreen')"
      ]
    },
    {
      "cell_type": "code",
      "execution_count": null,
      "id": "4a5e1ec1",
      "metadata": {
        "id": "4a5e1ec1"
      },
      "outputs": [],
      "source": [
        "xbar = x.mean()\n",
        "xbar"
      ]
    },
    {
      "cell_type": "code",
      "execution_count": null,
      "id": "aecfd8c6",
      "metadata": {
        "id": "aecfd8c6"
      },
      "outputs": [],
      "source": [
        "fig, ax = plt.subplots()\n",
        "plt.axvline(x = x.mean(), color='orange')\n",
        "_ = plt.hist(x, color = 'lightgray')"
      ]
    },
    {
      "cell_type": "code",
      "execution_count": null,
      "id": "15738307",
      "metadata": {
        "id": "15738307"
      },
      "outputs": [],
      "source": [
        "np.median(x) "
      ]
    },
    {
      "cell_type": "code",
      "execution_count": null,
      "id": "2ded53b5",
      "metadata": {
        "id": "2ded53b5"
      },
      "outputs": [],
      "source": [
        "fig, ax = plt.subplots()\n",
        "plt.axvline(x = np.mean(x), color='orange')\n",
        "plt.axvline(x = np.median(x), color='green')\n",
        "_ = plt.hist(x, color = 'lightgray')"
      ]
    },
    {
      "cell_type": "code",
      "execution_count": null,
      "id": "f98c6702",
      "metadata": {
        "id": "f98c6702"
      },
      "outputs": [],
      "source": [
        "x.var()"
      ]
    },
    {
      "cell_type": "code",
      "execution_count": null,
      "id": "2d2d06be",
      "metadata": {
        "id": "2d2d06be"
      },
      "outputs": [],
      "source": [
        "x.var()**(1/2)"
      ]
    },
    {
      "cell_type": "code",
      "execution_count": null,
      "id": "5dffea15",
      "metadata": {
        "id": "5dffea15"
      },
      "outputs": [],
      "source": [
        "fig, ax = plt.subplots()\n",
        "plt.axvline(x = xbar, color='orange')\n",
        "plt.axvline(x = xbar+sigma, color='olivedrab')\n",
        "plt.axvline(x = xbar-sigma, color='olivedrab')\n",
        "_ = plt.hist(x, color = 'lightgray')"
      ]
    },
    {
      "cell_type": "code",
      "execution_count": null,
      "id": "67dd0a29",
      "metadata": {
        "id": "67dd0a29"
      },
      "outputs": [],
      "source": [
        "sigma/(x.size)**(1/2)"
      ]
    },
    {
      "cell_type": "code",
      "execution_count": null,
      "id": "176602bf",
      "metadata": {
        "id": "176602bf"
      },
      "outputs": [],
      "source": [
        "st.sem(x)"
      ]
    },
    {
      "cell_type": "code",
      "execution_count": null,
      "id": "64b3a98d",
      "metadata": {
        "id": "64b3a98d"
      },
      "outputs": [],
      "source": [
        "st.sem(x, ddof=0)"
      ]
    }
  ],
  "metadata": {
    "kernelspec": {
      "display_name": "Python 3 (ipykernel)",
      "language": "python",
      "name": "python3"
    },
    "language_info": {
      "codemirror_mode": {
        "name": "ipython",
        "version": 3
      },
      "file_extension": ".py",
      "mimetype": "text/x-python",
      "name": "python",
      "nbconvert_exporter": "python",
      "pygments_lexer": "ipython3",
      "version": "3.9.13"
    },
    "colab": {
      "provenance": [],
      "include_colab_link": true
    }
  },
  "nbformat": 4,
  "nbformat_minor": 5
}